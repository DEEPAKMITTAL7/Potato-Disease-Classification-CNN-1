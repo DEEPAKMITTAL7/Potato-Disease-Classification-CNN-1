{
 "cells": [
  {
   "cell_type": "code",
   "execution_count": 1,
   "id": "69629a71-d7dd-4038-a35e-076d164785a5",
   "metadata": {},
   "outputs": [],
   "source": [
    "# Importing library for data collection from kaggle\n",
    "import kagglehub\n",
    "\n",
    "# Importing libraries for data manipulation\n",
    "import numpy as np\n",
    "import pandas as pd\n",
    "\n",
    "# Importing libararies for data visualization\n",
    "import matplotlib.pyplot as plt\n",
    "import seaborn as sns\n",
    "%matplotlib inline\n",
    "\n",
    "# Importing libaray to supress warnings\n",
    "import warnings\n",
    "warnings.filterwarnings('ignore')\n",
    "\n",
    "# Importing libarary for neural networks\n",
    "import tensorflow as tf\n",
    "\n",
    "# Importing libarries for CNN\n",
    "import cv2\n",
    "import PIL\n",
    "\n",
    "# Importing libarary for relearning\n",
    "import tensorflow_hub as hub\n",
    "\n",
    "# Importing libraries for BERT and Word2Vec\n",
    "import gensim\n",
    "import tensorflow_text as text\n",
    "\n",
    "# Importing library for quantization\n",
    "import tensorflow_model_optimization as tfmot"
   ]
  },
  {
   "cell_type": "code",
   "execution_count": 2,
   "id": "e0aab528-9a67-4575-aeba-6041c1b827d7",
   "metadata": {},
   "outputs": [
    {
     "name": "stdout",
     "output_type": "stream",
     "text": [
      "Resuming download from 47185920 bytes (297302129 bytes left)...\n",
      "Resuming download from https://www.kaggle.com/api/v1/datasets/download/arjuntejaswi/plant-village?dataset_version_number=1 (47185920/344488049) bytes left.\n"
     ]
    },
    {
     "name": "stderr",
     "output_type": "stream",
     "text": [
      "100%|████████████████████████████████████████████████████████████████████████████████| 329M/329M [06:36<00:00, 749kB/s]"
     ]
    },
    {
     "name": "stdout",
     "output_type": "stream",
     "text": [
      "Extracting files...\n"
     ]
    },
    {
     "name": "stderr",
     "output_type": "stream",
     "text": [
      "\n"
     ]
    },
    {
     "name": "stdout",
     "output_type": "stream",
     "text": [
      "Path to dataset files: C:\\Users\\DELL\\.cache\\kagglehub\\datasets\\arjuntejaswi\\plant-village\\versions\\1\n"
     ]
    }
   ],
   "source": [
    "# Downloading the data directly kaggle for latest edition. \n",
    "path = kagglehub.dataset_download(\"arjuntejaswi/plant-village\")\n",
    "print(\"Path to dataset files:\", path)"
   ]
  },
  {
   "cell_type": "raw",
   "id": "997a6c64-90d0-489f-861d-f1589fe48d7d",
   "metadata": {},
   "source": [
    "# Pulling the data from the mentioned path to this directory"
   ]
  },
  {
   "cell_type": "code",
   "execution_count": null,
   "id": "72c073cd-a9c3-4cf5-baf4-efef68fcea46",
   "metadata": {},
   "outputs": [],
   "source": []
  }
 ],
 "metadata": {
  "kernelspec": {
   "display_name": "Python 3 (ipykernel)",
   "language": "python",
   "name": "python3"
  },
  "language_info": {
   "codemirror_mode": {
    "name": "ipython",
    "version": 3
   },
   "file_extension": ".py",
   "mimetype": "text/x-python",
   "name": "python",
   "nbconvert_exporter": "python",
   "pygments_lexer": "ipython3",
   "version": "3.9.0"
  }
 },
 "nbformat": 4,
 "nbformat_minor": 5
}
